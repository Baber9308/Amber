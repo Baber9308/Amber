{
 "cells": [
  {
   "cell_type": "markdown",
   "metadata": {},
   "source": [
    "#   Concatenation"
   ]
  },
  {
   "cell_type": "markdown",
   "metadata": {},
   "source": [
    "## It is used to Join text with variables or other type objects. Followinf 4 methods to join text:\n",
    "\n",
    "1.  Using `\"+\"`\n",
    "  * type casting required\n",
    "2.  Using `\".format(var1, var2)\"`\n",
    "  * no need type casting\n",
    "  * required position of variable\n",
    "3.  Using `\"%\"`\n",
    "  * place % at the end string\n",
    "  * require each data type symbols\n",
    "\n",
    "4.  Using `\"f\"{var1} any text {var2}\"`  ✅\n",
    "  * no need type casting and postion"
   ]
  },
  {
   "cell_type": "markdown",
   "metadata": {},
   "source": [
    "## 1.   Using \"+\""
   ]
  },
  {
   "cell_type": "code",
   "execution_count": 3,
   "metadata": {},
   "outputs": [
    {
     "name": "stdout",
     "output_type": "stream",
     "text": [
      "Hello Babar Ali, son of M Akbar. Your age is 30 and nationality is Pakistani.\n"
     ]
    }
   ],
   "source": [
    "#   Using \"+\" to concatenate\n",
    "\n",
    "name = \"Babar Ali\"\n",
    "father_name = \"M Akbar\"\n",
    "age = str(30)               # Type casting is required\n",
    "nationality = \"Pakistani\"\n",
    "\n",
    "message = \"Hello \" + name + \", \" + \"son of \" + father_name + \". \" +\"Your age is \" + age + \" and nationality is \" + nationality + \".\"\n",
    "print(message)"
   ]
  },
  {
   "cell_type": "markdown",
   "metadata": {},
   "source": [
    "## 2.   Using \".format\""
   ]
  },
  {
   "cell_type": "code",
   "execution_count": 6,
   "metadata": {},
   "outputs": [
    {
     "name": "stdout",
     "output_type": "stream",
     "text": [
      "Hello, Babar Ali. Son of M Akbar. Your age is 30 and nationality is Pakistani\n"
     ]
    }
   ],
   "source": [
    "# .format\n",
    "# .format() at the end of string\n",
    "\n",
    "name = \"Babar Ali\"\n",
    "father_name = \"M Akbar\"\n",
    "age = 30                # No type casting is required\n",
    "nationality = \"Pakistani\"\n",
    "\n",
    "message = \"Hello, {}. Son of {}. Your age is {} and nationality is {}\".format(name, father_name, age, nationality)\n",
    "print(message)"
   ]
  },
  {
   "cell_type": "markdown",
   "metadata": {},
   "source": [
    "##  3.  Using \"%\""
   ]
  },
  {
   "cell_type": "code",
   "execution_count": 10,
   "metadata": {},
   "outputs": [
    {
     "name": "stdout",
     "output_type": "stream",
     "text": [
      "Hello, Babar Ali. Son of M Akbar. Your age is 30 and nationality is Pakistani\n"
     ]
    }
   ],
   "source": [
    "# %\n",
    "# place holder data type symbols\n",
    "# string = %s\n",
    "# int = %d\n",
    "\n",
    "name = \"Babar Ali\"\n",
    "father_name = \"M Akbar\"\n",
    "age = 30                # No type casting is required.  specfic symbols are used for each data types %s for string, %d for integers, %f for floats\n",
    "nationality = \"Pakistani\"\n",
    "\n",
    "message = \"Hello, %s. Son of %s. Your age is %s and nationality is %s\"%(name, father_name, age, nationality)\n",
    "print(message)\n",
    "\n"
   ]
  },
  {
   "cell_type": "markdown",
   "metadata": {},
   "source": [
    "## 4. Using \"F-Strings\""
   ]
  },
  {
   "cell_type": "code",
   "execution_count": 16,
   "metadata": {},
   "outputs": [
    {
     "name": "stdout",
     "output_type": "stream",
     "text": [
      "Hello Babar Ali, son of M Akbar. Your age is 30 and nationality is Pakistani.\n",
      "     NED Student Card\n",
      "**************************\n",
      "Name:           Babar Ali\n",
      "Father's Name:  M Akbar\n",
      "Age:            30\n",
      "Nationality:    Pakistani\n"
     ]
    }
   ],
   "source": [
    "# f-string\n",
    "# place f before starting boundry\n",
    "\n",
    "name = \"Babar Ali\"\n",
    "father_name = \"M Akbar\"\n",
    "age = 30                # No type casting is required.\n",
    "nationality = \"Pakistani\"\n",
    "\n",
    "\n",
    "message = f\"Hello {name}, son of {father_name}. Your age is {age} and nationality is {nationality}.\"\n",
    "message2 = f\"\"\"     NED Student Card\n",
    "**************************\n",
    "Name:           {name}\n",
    "Father's Name:  {father_name}\n",
    "Age:            {age}\n",
    "Nationality:    {nationality}\"\"\"\n",
    "\n",
    "print(message)\n",
    "print(message2)"
   ]
  }
 ],
 "metadata": {
  "kernelspec": {
   "display_name": "base",
   "language": "python",
   "name": "python3"
  },
  "language_info": {
   "codemirror_mode": {
    "name": "ipython",
    "version": 3
   },
   "file_extension": ".py",
   "mimetype": "text/x-python",
   "name": "python",
   "nbconvert_exporter": "python",
   "pygments_lexer": "ipython3",
   "version": "3.12.7"
  }
 },
 "nbformat": 4,
 "nbformat_minor": 2
}
