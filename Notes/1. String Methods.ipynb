{
 "cells": [
  {
   "cell_type": "markdown",
   "metadata": {},
   "source": [
    "# STRING METHODS"
   ]
  },
  {
   "cell_type": "markdown",
   "metadata": {},
   "source": [
    "## 1.   Capitalize"
   ]
  },
  {
   "cell_type": "code",
   "execution_count": 40,
   "metadata": {},
   "outputs": [
    {
     "name": "stdout",
     "output_type": "stream",
     "text": [
      "My name is babar ali\n"
     ]
    }
   ],
   "source": [
    "# Converts only 1st character of first word in upper case and rest all in lower case\n",
    "\n",
    "value = \"my Name is Babar Ali\"\n",
    "print(value.capitalize())"
   ]
  },
  {
   "cell_type": "markdown",
   "metadata": {},
   "source": [
    "### Lower"
   ]
  },
  {
   "cell_type": "code",
   "execution_count": 48,
   "metadata": {},
   "outputs": [
    {
     "name": "stdout",
     "output_type": "stream",
     "text": [
      "my name is babar ali\n"
     ]
    }
   ],
   "source": [
    "# Converts whole string in lower case\n",
    "\n",
    "value = \"My Name is BABAR ALI\"\n",
    "print(value.lower())"
   ]
  },
  {
   "cell_type": "markdown",
   "metadata": {},
   "source": [
    "### Upper"
   ]
  },
  {
   "cell_type": "code",
   "execution_count": 52,
   "metadata": {},
   "outputs": [
    {
     "name": "stdout",
     "output_type": "stream",
     "text": [
      "MY NAME IS BABAR ALI\n"
     ]
    }
   ],
   "source": [
    "# Converts whole string in upper case\n",
    "\n",
    "value = \"my name is babar ali\"\n",
    "print(value.upper())"
   ]
  },
  {
   "cell_type": "markdown",
   "metadata": {},
   "source": [
    "### Title"
   ]
  },
  {
   "cell_type": "code",
   "execution_count": 53,
   "metadata": {},
   "outputs": [
    {
     "name": "stdout",
     "output_type": "stream",
     "text": [
      "My Name Is Babar Ali\n"
     ]
    }
   ],
   "source": [
    "# First character in every word is upper case\n",
    "\n",
    "value = \"my name is babar ali\"\n",
    "print(value.title())"
   ]
  },
  {
   "cell_type": "markdown",
   "metadata": {},
   "source": [
    "## 2.   Casefold"
   ]
  },
  {
   "cell_type": "code",
   "execution_count": 41,
   "metadata": {},
   "outputs": [
    {
     "name": "stdout",
     "output_type": "stream",
     "text": [
      "my name is babar ali\n"
     ]
    }
   ],
   "source": [
    "#   Converts all words into lower case of a string\n",
    "\n",
    "value = \"my Name is Babar Ali\"\n",
    "print(value.casefold())"
   ]
  },
  {
   "cell_type": "markdown",
   "metadata": {},
   "source": [
    "## 3.   Center"
   ]
  },
  {
   "cell_type": "code",
   "execution_count": 42,
   "metadata": {},
   "outputs": [
    {
     "name": "stdout",
     "output_type": "stream",
     "text": [
      "my Name is Babar Ali\n"
     ]
    }
   ],
   "source": [
    "#   Used to center align the string, using a specified character (space is default) as the fill character\n",
    "\n",
    "value = \"my Name is Babar Ali\"\n",
    "print(value.center(10,\"-\"))"
   ]
  },
  {
   "cell_type": "markdown",
   "metadata": {},
   "source": [
    "## 4.   Count"
   ]
  },
  {
   "cell_type": "code",
   "execution_count": 43,
   "metadata": {},
   "outputs": [
    {
     "name": "stdout",
     "output_type": "stream",
     "text": [
      "1\n"
     ]
    }
   ],
   "source": [
    "#   Used to returns the number of times a specified value appears in the string.\n",
    "\n",
    "value = \"my Name is Babar Ali\"\n",
    "print(value.count(\"Babar\"))"
   ]
  },
  {
   "cell_type": "markdown",
   "metadata": {},
   "source": [
    "## 5.   Endswith"
   ]
  },
  {
   "cell_type": "code",
   "execution_count": 44,
   "metadata": {},
   "outputs": [
    {
     "name": "stdout",
     "output_type": "stream",
     "text": [
      "True\n",
      "True\n"
     ]
    }
   ],
   "source": [
    "#   It is used to returns True if the string ends with the specified value, otherwise False\n",
    "\n",
    "value = \"my Name is Babar Ali\"\n",
    "print(value.endswith(\"i\"))\n",
    "print(value.endswith(\"Ali\"))\n"
   ]
  },
  {
   "cell_type": "markdown",
   "metadata": {},
   "source": [
    "## 6.   Expandtabs"
   ]
  },
  {
   "cell_type": "code",
   "execution_count": 45,
   "metadata": {},
   "outputs": [
    {
     "name": "stdout",
     "output_type": "stream",
     "text": [
      "H  e  l  l  o\n"
     ]
    }
   ],
   "source": [
    "# Used to set the tab size to the specified number of spaces\n",
    "\n",
    "txt = \"H\\te\\tl\\tl\\to\"\n",
    "x =  txt.expandtabs(3)\n",
    "print(x)"
   ]
  },
  {
   "cell_type": "markdown",
   "metadata": {},
   "source": [
    "## 7.   Find"
   ]
  },
  {
   "cell_type": "code",
   "execution_count": 57,
   "metadata": {},
   "outputs": [
    {
     "name": "stdout",
     "output_type": "stream",
     "text": [
      "7\n",
      "-1\n",
      "8\n"
     ]
    }
   ],
   "source": [
    "#   Used to find the first occurrence of the specified value. method returns -1 if the value is not found. It is case sensitive\n",
    "\n",
    "txt = \"Hello, welcome to my world.\"\n",
    "x = txt.find(\"welcome\")\n",
    "z = txt.find(\"Bbbaar\")\n",
    "y = txt.find(\"e\", 5, 10)\n",
    "print(x)\n",
    "print(z)\n",
    "print(y)"
   ]
  },
  {
   "cell_type": "markdown",
   "metadata": {},
   "source": [
    "## 8.   Lstrip/ Rstrip  "
   ]
  },
  {
   "cell_type": "code",
   "execution_count": 47,
   "metadata": {},
   "outputs": [
    {
     "name": "stdout",
     "output_type": "stream",
     "text": [
      "My favourite fruit is Apple.\n"
     ]
    }
   ],
   "source": [
    "# Rstrip remove any spaces at the end of the string. Lstrip removes any spaces before string\n",
    "\n",
    "x = \"            Apple              \"\n",
    "y = \"My favourite fruit is \" + x.lstrip().rstrip() + \".\" \n",
    "print(y)"
   ]
  }
 ],
 "metadata": {
  "kernelspec": {
   "display_name": "base",
   "language": "python",
   "name": "python3"
  },
  "language_info": {
   "codemirror_mode": {
    "name": "ipython",
    "version": 3
   },
   "file_extension": ".py",
   "mimetype": "text/x-python",
   "name": "python",
   "nbconvert_exporter": "python",
   "pygments_lexer": "ipython3",
   "version": "3.12.7"
  }
 },
 "nbformat": 4,
 "nbformat_minor": 2
}
