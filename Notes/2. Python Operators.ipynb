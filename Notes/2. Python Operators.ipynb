{
 "cells": [
  {
   "cell_type": "markdown",
   "metadata": {},
   "source": [
    "#   1.  Arithmetic Operators"
   ]
  },
  {
   "cell_type": "markdown",
   "metadata": {},
   "source": [
    "### Add+   Subtract-    Multiply*   Divide/   Exponent**   Floor Division//    Modulus%"
   ]
  },
  {
   "cell_type": "code",
   "execution_count": 19,
   "metadata": {},
   "outputs": [
    {
     "name": "stdout",
     "output_type": "stream",
     "text": [
      "60\n",
      "40\n",
      "500\n",
      "5.0\n",
      "5\n",
      "0\n",
      "97656250000000000\n"
     ]
    }
   ],
   "source": [
    "#   Used with numeric values to perform common mathematical operations\n",
    "\n",
    "x = 50\n",
    "y = 10\n",
    "\n",
    "print(x + y)\n",
    "print(x - y)\n",
    "print(x * y)\n",
    "print(x / y)\n",
    "print(x // y)\n",
    "print(x % y)        # remainder in dividing 50  by 10\n",
    "print(x ** y)      # 50 ^ 10\n",
    "\n"
   ]
  },
  {
   "cell_type": "markdown",
   "metadata": {},
   "source": [
    "# 2.    Assignment Operators"
   ]
  },
  {
   "cell_type": "code",
   "execution_count": 22,
   "metadata": {},
   "outputs": [
    {
     "name": "stdout",
     "output_type": "stream",
     "text": [
      "25\n",
      "20\n",
      "100\n",
      "20.0\n",
      "3200000.0\n",
      "43835.0\n",
      "20.0\n"
     ]
    }
   ],
   "source": [
    "#   Assignment operators are used to assign values to variables\n",
    "\n",
    "x = 20\n",
    "x += 5\n",
    "print(x)\n",
    "x -= 5\n",
    "print(x)\n",
    "x *= 5\n",
    "print(x)\n",
    "x /= 5\n",
    "print(x)\n",
    "x **= 5\n",
    "print(x)\n",
    "x //= 73\n",
    "print(x)\n",
    "x %= 115\n",
    "print(x)\n",
    "\n"
   ]
  },
  {
   "cell_type": "markdown",
   "metadata": {},
   "source": [
    "#   3.  Comparison Operator"
   ]
  },
  {
   "cell_type": "code",
   "execution_count": 35,
   "metadata": {},
   "outputs": [
    {
     "name": "stdout",
     "output_type": "stream",
     "text": [
      "True\n",
      "False\n",
      "False\n",
      "False\n",
      "True\n",
      "True\n"
     ]
    }
   ],
   "source": [
    "#   Comparison operators are used to compare two values\n",
    "\n",
    "g = 15\n",
    "h = 15\n",
    "print(g == h)\n",
    "print(g != h)\n",
    "print(g > h)\n",
    "print(g < h)\n",
    "print(g <= h)\n",
    "print(g >= h)\n",
    "\n"
   ]
  },
  {
   "cell_type": "markdown",
   "metadata": {},
   "source": [
    "# 4.    Logical Operators"
   ]
  },
  {
   "cell_type": "code",
   "execution_count": 41,
   "metadata": {},
   "outputs": [
    {
     "name": "stdout",
     "output_type": "stream",
     "text": [
      "False\n",
      "True\n",
      "False\n"
     ]
    }
   ],
   "source": [
    "# Logical operators are used to combine conditional statements\n",
    "\n",
    "m = 25 \n",
    "n = 50\n",
    "o = 70\n",
    "a = m<n and n>o     # And(&) operator returns True if both statements are true\n",
    "b = m<n or n>0      # Or(|) operator returns True if one of the statements is true\n",
    "c = not(m<n and n<o)    #   Not(!) operator reverses the result, returns False if the result is true\n",
    "print(a) \n",
    "print(b) \n",
    "print(c) "
   ]
  },
  {
   "cell_type": "markdown",
   "metadata": {},
   "source": [
    "# 5.    Identity Operators"
   ]
  },
  {
   "cell_type": "code",
   "execution_count": 51,
   "metadata": {},
   "outputs": [
    {
     "name": "stdout",
     "output_type": "stream",
     "text": [
      "1988877481072\n",
      "1988877433328\n",
      "1988877481072\n",
      "False\n",
      "True\n",
      "True\n"
     ]
    }
   ],
   "source": [
    "# Identity operators are used to compare the objects not the values contained in them, but if they are actually the same object, with the same memory location\n",
    "\n",
    "x = \"Babar Ali\"\n",
    "y = \"Babar Ali\"\n",
    "z = x\n",
    "print(id(x))        # id function Used to check identity/ memory location of an object/ variable\n",
    "print(id(y))\n",
    "print(id(z))\n",
    "\n",
    "print(x is y)\n",
    "print(x==y)     # This is used to check values of an object/ variable\n",
    "print(x is z)       "
   ]
  },
  {
   "cell_type": "markdown",
   "metadata": {},
   "source": [
    "#   6.  Membership Operators"
   ]
  },
  {
   "cell_type": "code",
   "execution_count": 59,
   "metadata": {},
   "outputs": [
    {
     "name": "stdout",
     "output_type": "stream",
     "text": [
      "True\n",
      "True\n"
     ]
    }
   ],
   "source": [
    "vegs = [\"Turnip\", \"Potato\", \"Spinich\", \"Cabbage\", \"Lady finger\", \"Bringle\"]\n",
    "vegs2 = [\"Onion\", \"Garlic\", \"Turnip\", \"Tomato\"]\n",
    "vegs3 = [\"Turnip\", \"Potato\", \"Spinich\", \"Cabbage\", \"Lady finger\", \"Bringle\"]\n",
    "print(\"Turnip\" in vegs2)\n",
    "print(\"Onion\" in vegs2)\n",
    "\n"
   ]
  }
 ],
 "metadata": {
  "kernelspec": {
   "display_name": "base",
   "language": "python",
   "name": "python3"
  },
  "language_info": {
   "codemirror_mode": {
    "name": "ipython",
    "version": 3
   },
   "file_extension": ".py",
   "mimetype": "text/x-python",
   "name": "python",
   "nbconvert_exporter": "python",
   "pygments_lexer": "ipython3",
   "version": "3.12.7"
  }
 },
 "nbformat": 4,
 "nbformat_minor": 2
}
