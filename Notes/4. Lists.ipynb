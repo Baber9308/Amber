{
 "cells": [
  {
   "cell_type": "markdown",
   "metadata": {},
   "source": [
    "# LISTS\n"
   ]
  },
  {
   "cell_type": "code",
   "execution_count": 39,
   "metadata": {},
   "outputs": [
    {
     "name": "stdout",
     "output_type": "stream",
     "text": [
      "[]\n",
      "<class 'list'>\n",
      "['__add__', '__class__', '__class_getitem__', '__contains__', '__delattr__', '__delitem__', '__dir__', '__doc__', '__eq__', '__format__', '__ge__', '__getattribute__', '__getitem__', '__getstate__', '__gt__', '__hash__', '__iadd__', '__imul__', '__init__', '__init_subclass__', '__iter__', '__le__', '__len__', '__lt__', '__mul__', '__ne__', '__new__', '__reduce__', '__reduce_ex__', '__repr__', '__reversed__', '__rmul__', '__setattr__', '__setitem__', '__sizeof__', '__str__', '__subclasshook__', 'append', 'clear', 'copy', 'count', 'extend', 'index', 'insert', 'pop', 'remove', 'reverse', 'sort']\n"
     ]
    }
   ],
   "source": [
    "names = []\n",
    "print(names)\n",
    "print(type(names))      # Shows class of variable\n",
    "print(dir(names))       # Used to show all commands that can be used with mentioned variable"
   ]
  },
  {
   "cell_type": "code",
   "execution_count": 40,
   "metadata": {},
   "outputs": [
    {
     "name": "stdout",
     "output_type": "stream",
     "text": [
      "['Babar', 'Ali', 'Haider', 'Sikandar', 'Ayesha', 'Mustafa']\n",
      "6\n",
      "['Asad', 'Jalal', 52.12, -100.11, 'Khaabib', 22, 56, -82]\n"
     ]
    }
   ],
   "source": [
    "family_names = [\"Babar\", \"Ali\", \"Haider\", \"Sikandar\", \"Ayesha\", \"Mustafa\"]\n",
    "print(family_names)\n",
    "print(len(family_names))\n",
    "names_all = [\"Asad\", \"Jalal\", 52.12, -100.11,  \"Khaabib\", 22, 56, -82]\n",
    "print(names_all)"
   ]
  },
  {
   "cell_type": "markdown",
   "metadata": {},
   "source": [
    "## Lists Functions - 'Append', 'Clear', 'Copy', 'Count', 'Extend', 'Index', 'Insert', 'Pop', 'Remove', 'Reserve', 'Sort'"
   ]
  },
  {
   "cell_type": "markdown",
   "metadata": {},
   "source": [
    "### 1. Append Function   "
   ]
  },
  {
   "cell_type": "code",
   "execution_count": 41,
   "metadata": {},
   "outputs": [
    {
     "name": "stdout",
     "output_type": "stream",
     "text": [
      "['Karachi', 'Sukkur', 'Bhawalpur', 'Lahore', 'Quetta', 'Khuzdar', 'Islamabad']\n"
     ]
    }
   ],
   "source": [
    "#   Append is Used to add data in a list. Only one data can be added at a time\n",
    "\n",
    "cities = [\"Karachi\"]\n",
    "cities.append(\"Sukkur\")\n",
    "cities.append(\"Bhawalpur\")\n",
    "cities.append(\"Lahore\")\n",
    "cities.append(\"Quetta\")\n",
    "cities.append(\"Khuzdar\")\n",
    "cities.append(\"Islamabad\")\n",
    "print(cities)"
   ]
  },
  {
   "cell_type": "markdown",
   "metadata": {},
   "source": [
    "### 2.  Clear Function "
   ]
  },
  {
   "cell_type": "code",
   "execution_count": 42,
   "metadata": {},
   "outputs": [
    {
     "name": "stdout",
     "output_type": "stream",
     "text": [
      "[]\n"
     ]
    }
   ],
   "source": [
    "# Clear - clears all the values/ items contained in a list\n",
    "\n",
    "values = [1, 2, 3, \"Ali\", \"Babar\", 100, 14.25, 1, 5, 10, \"Ahmed\", \"Ali\", 10]\n",
    "values.clear()\n",
    "print(values)"
   ]
  },
  {
   "cell_type": "markdown",
   "metadata": {},
   "source": [
    "### 3.  Count Function"
   ]
  },
  {
   "cell_type": "code",
   "execution_count": 43,
   "metadata": {},
   "outputs": [
    {
     "name": "stdout",
     "output_type": "stream",
     "text": [
      "2\n",
      "1\n",
      "2\n",
      "0\n"
     ]
    }
   ],
   "source": [
    "# Used to count an item/ values contained in a list.  How many times that item is mentioned in that list\n",
    "\n",
    "values_1 = [1, 2, 3, \"Ali\", \"Babar\", 100, 14.25, 1, 5, 10, \"Ahmed\", \"Ali\", 10]\n",
    "print(values_1.count(1))\n",
    "print(values_1.count(3))\n",
    "print(values_1.count(10))\n",
    "print(values_1.count(0))"
   ]
  },
  {
   "cell_type": "markdown",
   "metadata": {},
   "source": [
    "### 4. Extend Function"
   ]
  },
  {
   "cell_type": "code",
   "execution_count": 44,
   "metadata": {},
   "outputs": [
    {
     "name": "stdout",
     "output_type": "stream",
     "text": [
      "['Apple', 'Banana', 'Mango', 'Kiwi', 'Orange', 'Papaya', 'Pomegrenate', 1, 2, 3, 4, 11, 12, 13, 14, 50, 55, 100]\n"
     ]
    }
   ],
   "source": [
    "# Extend - Adds/ merges two lists together\n",
    "\n",
    "numbers = [1, 2, 3, 4, 11, 12, 13, 14, 50, 55, 100]\n",
    "fruits = [\"Apple\", \"Banana\", \"Mango\", \"Kiwi\", \"Orange\", \"Papaya\", \"Pomegrenate\"]\n",
    "fruits.extend(numbers)\n",
    "print(fruits)"
   ]
  },
  {
   "cell_type": "markdown",
   "metadata": {},
   "source": [
    "### 5. Index Function"
   ]
  },
  {
   "cell_type": "code",
   "execution_count": 45,
   "metadata": {},
   "outputs": [
    {
     "name": "stdout",
     "output_type": "stream",
     "text": [
      "4\n",
      "3\n"
     ]
    }
   ],
   "source": [
    "# Used to check the indexing or location of an item in a list.  Used with print statement and an item from the list is entered with index function \n",
    "\n",
    "data = [2, \"Babar\", 85, \"NUST\", 11, \"Dog\", \"Biryani\", 55]\n",
    "print(data.index(11))\n",
    "print(data.index(\"NUST\"))"
   ]
  },
  {
   "cell_type": "markdown",
   "metadata": {},
   "source": [
    "### 6. Pop Function"
   ]
  },
  {
   "cell_type": "code",
   "execution_count": 46,
   "metadata": {},
   "outputs": [
    {
     "name": "stdout",
     "output_type": "stream",
     "text": [
      "['Mango', 'Banana', 'Pineapple', 'Apple', 'Peach', 'Orange', 'Kiwi', 'Cherry', 'Guava']\n",
      "['Mango', 'Banana', 'Apple', 'Peach', 'Orange', 'Kiwi', 'Cherry', 'Guava']\n"
     ]
    }
   ],
   "source": [
    "# Pop - Removes last item or indicated index from list \n",
    "#             0        1           2          3        4         5        6        7        8        9\n",
    "fruits1 = [\"Mango\", \"Banana\", \"Pineapple\", \"Apple\", \"Peach\", \"Orange\", \"Kiwi\", \"Cherry\", \"Guava\", \"Plum\"]\n",
    "fruits1.pop()   # Removes last item from list\n",
    "print(fruits1)\n",
    "fruits1.pop(2)  # Removes indicated index number list from list\n",
    "print(fruits1)"
   ]
  },
  {
   "cell_type": "markdown",
   "metadata": {},
   "source": [
    "### 7. Remove Function"
   ]
  },
  {
   "cell_type": "code",
   "execution_count": 47,
   "metadata": {},
   "outputs": [
    {
     "name": "stdout",
     "output_type": "stream",
     "text": [
      "['Apple', 'Banana', 'Kiwi', 'Orange', 'Papaya', 'Pomegrenate', 1, 2, 3, 4, 11, 12, 13, 14, 50, 55, 100]\n"
     ]
    }
   ],
   "source": [
    "# Removes a specified item from list\n",
    "\n",
    "fruits.remove(\"Mango\")\n",
    "print(fruits)"
   ]
  },
  {
   "cell_type": "markdown",
   "metadata": {},
   "source": [
    "### 8. Copy Function"
   ]
  },
  {
   "cell_type": "code",
   "execution_count": 48,
   "metadata": {},
   "outputs": [
    {
     "name": "stdout",
     "output_type": "stream",
     "text": [
      "['Apple', 'Banana', 'Kiwi', 'Orange', 'Papaya', 'Pomegrenate', 1, 2, 3, 4, 11, 12, 13, 14, 50, 55, 100]\n"
     ]
    }
   ],
   "source": [
    "# Copy - Used to make copy of a list which can be used for making changes\n",
    "fruits_new = fruits.copy()\n",
    "print(fruits_new)"
   ]
  },
  {
   "cell_type": "markdown",
   "metadata": {},
   "source": [
    "### 9. Reverse Function"
   ]
  },
  {
   "cell_type": "code",
   "execution_count": 49,
   "metadata": {},
   "outputs": [
    {
     "name": "stdout",
     "output_type": "stream",
     "text": [
      "[100, 55, 50, 14, 13, 12, 11, 4, 3, 2, 1]\n"
     ]
    }
   ],
   "source": [
    "# Reverse - Used to reverse the order of list\n",
    "numbers.reverse()\n",
    "print(numbers)"
   ]
  },
  {
   "cell_type": "markdown",
   "metadata": {},
   "source": [
    "### 10. Sort Function"
   ]
  },
  {
   "cell_type": "code",
   "execution_count": 50,
   "metadata": {},
   "outputs": [
    {
     "name": "stdout",
     "output_type": "stream",
     "text": [
      "[-87, -55, -8, -1, 0, 11, 44, 45, 52, 100]\n",
      "[100, 52, 45, 44, 14, 0, -1, -7, -54, -87]\n"
     ]
    }
   ],
   "source": [
    "# Sort - Used for Ascending/ Descending orders\n",
    "numbers2 = [52, 45, -87, 100, 11, -1, 0, 44, -55, -8]\n",
    "numbers2.sort()     # For Ascending order\n",
    "numbers3 = [52, 45, -87, 100, 14, -1, 0, 44, -54, -7]\n",
    "numbers3.sort (reverse = True)      # For Descending order\n",
    "print(numbers2)\n",
    "print(numbers3)"
   ]
  },
  {
   "cell_type": "code",
   "execution_count": 51,
   "metadata": {},
   "outputs": [
    {
     "name": "stdout",
     "output_type": "stream",
     "text": [
      "10\n",
      "-87\n",
      "[100, 2, 3, 4, 5, 6, 7, 8, 9, 0, 10, 11, 12, 13]\n"
     ]
    }
   ],
   "source": [
    "print(len(numbers2))\n",
    "print(numbers2[0])     # Used to print specified index item from a list\n",
    "numbers4 = [1,2,3,4,5,6,7,8,9,0,10,11,12,13]\n",
    "numbers4[0] = 100       # Used to change an item at specified index location.  100 has been changed with 1 at 0 indexing location\n",
    "print(numbers4)\n",
    "    # Used to "
   ]
  },
  {
   "cell_type": "markdown",
   "metadata": {},
   "source": [
    "## Nested Lists - Lists within lists"
   ]
  },
  {
   "cell_type": "code",
   "execution_count": 3,
   "metadata": {},
   "outputs": [
    {
     "name": "stdout",
     "output_type": "stream",
     "text": [
      "['Babar', 'Ali', 'NED', 'Data Science', ['Hassan', 'KK', 'Faisal']]\n",
      "3\n",
      "[['NUST', 'AIR', 'FAST'], ['KMC', 'Peshawar Uni'], [['NED', 'KU', 'Sir Syed'], ['DHA Sufa', 'SZABIST', 'Greemwich']]]\n",
      "['Pakistan', ['Punjab', ['Islamabad', ['Fast', 'NUST', 'UET']], 'Sindh', ['Karachi', ['NED', 'KU', 'Iqra']]], 'United Kingdom', ['London', ['Oxford', 'Kings College'], 'Manchester', ['Hurdlesfield', 'Cambridge']]]\n"
     ]
    }
   ],
   "source": [
    "biodata1 = [\"Babar\", \"Ali\", \"NED\", \"Data Science\"]\n",
    "biodata1.append([\"Hassan\", \"KK\", \"Faisal\"])     # Creating a list inside a list\n",
    "print(biodata1)\n",
    "unis = [[\"NUST\", \"AIR\", \"FAST\"], [\"KMC\", \"Peshawar Uni\"], [[\"NED\", \"KU\", \"Sir Syed\"],[\"DHA Sufa\", \"SZABIST\", \"Greemwich\"]]]\n",
    "print(len(unis))\n",
    "print(unis)\n",
    "unis1 = [\"Pakistan\", [\"Punjab\",[\"Islamabad\",[\"Fast\",\"NUST\", \"UET\"]], \"Sindh\", [\"Karachi\", [\"NED\", \"KU\", \"Iqra\"]]], \"United Kingdom\", [\"London\", [\"Oxford\", \"Kings College\"], \"Manchester\", [\"Hurdlesfield\",\"Cambridge\"]]]\n",
    "print(unis1)"
   ]
  },
  {
   "cell_type": "markdown",
   "metadata": {},
   "source": [
    "## Slicing"
   ]
  },
  {
   "cell_type": "code",
   "execution_count": 1,
   "metadata": {},
   "outputs": [
    {
     "name": "stdout",
     "output_type": "stream",
     "text": [
      "[1, 2, 3, 4, 5]\n"
     ]
    }
   ],
   "source": [
    "numbers5 = [1,2,3,4,5,6,7,8,9,0,10,11,12,13]\n",
    "print(numbers5[0:5])        # Used to select a specic chunk (in sequence) from the list"
   ]
  }
 ],
 "metadata": {
  "kernelspec": {
   "display_name": "base",
   "language": "python",
   "name": "python3"
  },
  "language_info": {
   "codemirror_mode": {
    "name": "ipython",
    "version": 3
   },
   "file_extension": ".py",
   "mimetype": "text/x-python",
   "name": "python",
   "nbconvert_exporter": "python",
   "pygments_lexer": "ipython3",
   "version": "3.12.7"
  }
 },
 "nbformat": 4,
 "nbformat_minor": 2
}
